{
 "cells": [
  {
   "cell_type": "markdown",
   "id": "907410f9",
   "metadata": {},
   "source": [
    "## 1. Two Sum"
   ]
  },
  {
   "cell_type": "markdown",
   "id": "df0c4328",
   "metadata": {},
   "source": [
    "use hashmaps, the idea is to find a pair that if one is subtracted from the target, the other value is in the dictionary. create an empty dictionary. add the value in the dictionary with key as the arrayval and the value as the index. we want to give the index at the end.  steps:\n",
    "1.create an empty dictionary\n",
    "2. because we want to have index at the end, we always need to use idx and value using enumerate. \n",
    "3. find the difference = target - current arrayaval\n",
    "4. if the difference is present in the dictionary, then return the corrseponding index and the index that we just read\n",
    "5. if not add this currentval and the index to the dictionary\n",
    "\n",
    " for this if we added all the values in the dictionary initially then finding the values would be difficult. it results in O(n*n) complexity. hence we add the values during run time.  "
   ]
  },
  {
   "cell_type": "code",
   "execution_count": 26,
   "id": "e3bc190f",
   "metadata": {},
   "outputs": [],
   "source": [
    "class Solution(object):\n",
    "    def twoSum(self, nums, target):\n",
    "        \"\"\"\n",
    "        :type nums: List[int]\n",
    "        :type target: int\n",
    "        :rtype: List[int]\n",
    "        \"\"\"\n",
    "        prevMap={}\n",
    "        for idx,val in enumerate(nums):\n",
    "            #print(idx,val)\n",
    "            diff = target - val\n",
    "            print(diff)\n",
    "            if diff in prevMap:\n",
    "                return(prevMap[diff],idx)\n",
    "                print(prevMap[diff],idx)\n",
    "            prevMap[idx]=val\n",
    "            print(prevMap)"
   ]
  },
  {
   "cell_type": "code",
   "execution_count": 27,
   "id": "b0add255",
   "metadata": {},
   "outputs": [
    {
     "name": "stdout",
     "output_type": "stream",
     "text": [
      "7\n",
      "{0: 2}\n",
      "2\n",
      "{0: 2, 1: 7}\n",
      "-2\n",
      "{0: 2, 1: 7, 2: 11}\n",
      "-6\n",
      "{0: 2, 1: 7, 2: 11, 3: 15}\n"
     ]
    }
   ],
   "source": [
    "c = Solution()\n",
    "c.twoSum(nums=[2,7,11,15],target=9)"
   ]
  },
  {
   "cell_type": "markdown",
   "id": "70e8ed46",
   "metadata": {},
   "source": [
    "as you can see the above case does not return any output \n",
    "\n",
    "because we need to return the index - we use the key as the array element and the value as the index of the array element.\n",
    "\n",
    "https://www.youtube.com/watch?v=KLlXCFG5TnA\n"
   ]
  },
  {
   "cell_type": "code",
   "execution_count": 28,
   "id": "55e42b95",
   "metadata": {},
   "outputs": [],
   "source": [
    "class Solution(object):\n",
    "    def twoSum(self, nums, target):\n",
    "        \"\"\"\n",
    "        :type nums: List[int]\n",
    "        :type target: int\n",
    "        :rtype: List[int]\n",
    "        \"\"\"\n",
    "        prevMap={}\n",
    "        for idx,val in enumerate(nums):\n",
    "            #print(idx,val)\n",
    "            diff = target - val\n",
    "            print(diff)\n",
    "            if diff in prevMap:\n",
    "                return(prevMap[diff],idx)\n",
    "                print(prevMap[diff],idx)\n",
    "            prevMap[val]=idx\n",
    "            print(prevMap)"
   ]
  },
  {
   "cell_type": "code",
   "execution_count": 29,
   "id": "d9ba108e",
   "metadata": {},
   "outputs": [
    {
     "name": "stdout",
     "output_type": "stream",
     "text": [
      "7\n",
      "{2: 0}\n",
      "2\n"
     ]
    },
    {
     "data": {
      "text/plain": [
       "(0, 1)"
      ]
     },
     "execution_count": 29,
     "metadata": {},
     "output_type": "execute_result"
    }
   ],
   "source": [
    "c = Solution()\n",
    "c.twoSum(nums=[2,7,11,15],target=9)"
   ]
  },
  {
   "cell_type": "markdown",
   "id": "99cdf47a",
   "metadata": {},
   "source": [
    "## 9. Palindrome Number"
   ]
  },
  {
   "cell_type": "code",
   "execution_count": null,
   "id": "8c386695",
   "metadata": {},
   "outputs": [],
   "source": []
  },
  {
   "cell_type": "code",
   "execution_count": 32,
   "id": "e76fb07a",
   "metadata": {},
   "outputs": [],
   "source": [
    "class Solution(object):\n",
    "    def isPalindrome(self, x):\n",
    "        \"\"\"\n",
    "        :type x: int\n",
    "        :rtype: bool\n",
    "        \"\"\"\n",
    "        if str(x) == str(x)[::-1]:\n",
    "            return True\n",
    "        return False"
   ]
  },
  {
   "cell_type": "code",
   "execution_count": 36,
   "id": "e28c5481",
   "metadata": {},
   "outputs": [
    {
     "data": {
      "text/plain": [
       "False"
      ]
     },
     "execution_count": 36,
     "metadata": {},
     "output_type": "execute_result"
    }
   ],
   "source": [
    "a=Solution()\n",
    "a.isPalindrome(-121)"
   ]
  },
  {
   "cell_type": "markdown",
   "id": "8e06e609",
   "metadata": {},
   "source": [
    "if we dont want to use strings:\n",
    "    To get the right most digit of the number we need to take % with 10 and to get the left most digit of the number we need to take integer division // with that 1000 if 1000 digit (look below for the div value). for pallindrome we need to compare if these 2 digits are equal. then if they are equal then remove the left and the right digit and then move inside. to remove the left and right digit, we need to do the oppoisite of the above, to remove left digit do integer division and to remove left digit do the %. and also now reduce the division value to two digits less by dividing it with 100. \n",
    "    \n",
    " steps:\n",
    " 0. if it is a negative value return false\n",
    " 1. to get this div value, to check the number of digits, first take div as 1, while the x value > div*10: make div as div*10, this goes on till x < div*10, if it is 1000 digit number, the div value for the loop goes 3 times, 10, 100, 1000 and at 10000 the x <10000 it stops there. so we have div = 1000\n",
    " 2. while x is there, \n",
    " 3.get the right digit = x%10\n",
    " 4. get the left digit as x // div\n",
    " 5. if left digit is not equal to right digit return false\n",
    " 6. else remove the left digit as (x%10) // div -- to remove right digit\n",
    " 7. change div as div /100\n",
    " 8. if this works then it is True\n",
    " \n",
    " if there is single digit that is left out at the end, as shown below 2 %10 == 2//1 \n",
    " "
   ]
  },
  {
   "cell_type": "markdown",
   "id": "854aaf9c",
   "metadata": {},
   "source": [
    "121"
   ]
  },
  {
   "cell_type": "code",
   "execution_count": 102,
   "id": "8a96a311",
   "metadata": {},
   "outputs": [
    {
     "data": {
      "text/plain": [
       "1"
      ]
     },
     "execution_count": 102,
     "metadata": {},
     "output_type": "execute_result"
    }
   ],
   "source": [
    "121%10"
   ]
  },
  {
   "cell_type": "code",
   "execution_count": 103,
   "id": "3bcc9746",
   "metadata": {},
   "outputs": [
    {
     "data": {
      "text/plain": [
       "1"
      ]
     },
     "execution_count": 103,
     "metadata": {},
     "output_type": "execute_result"
    }
   ],
   "source": [
    "121//100"
   ]
  },
  {
   "cell_type": "code",
   "execution_count": null,
   "id": "6d8d2db9",
   "metadata": {},
   "outputs": [],
   "source": [
    "left and right digit"
   ]
  },
  {
   "cell_type": "code",
   "execution_count": 104,
   "id": "a76ff439",
   "metadata": {},
   "outputs": [
    {
     "data": {
      "text/plain": [
       "2"
      ]
     },
     "execution_count": 104,
     "metadata": {},
     "output_type": "execute_result"
    }
   ],
   "source": [
    "2%10"
   ]
  },
  {
   "cell_type": "code",
   "execution_count": 106,
   "id": "cb1232c0",
   "metadata": {},
   "outputs": [
    {
     "data": {
      "text/plain": [
       "2"
      ]
     },
     "execution_count": 106,
     "metadata": {},
     "output_type": "execute_result"
    }
   ],
   "source": [
    "2//1"
   ]
  },
  {
   "cell_type": "code",
   "execution_count": 112,
   "id": "4732c2dd",
   "metadata": {},
   "outputs": [],
   "source": [
    "class Solution(object):\n",
    "    def isPalindrome(self, x):\n",
    "        \"\"\"\n",
    "        :type x: int\n",
    "        :rtype: bool\n",
    "        \"\"\"\n",
    "        if x <0: return False\n",
    "        div = 1\n",
    "        while x >= div*10:\n",
    "            div*=10\n",
    "        while x:\n",
    "            left = x//div\n",
    "            right = x %10\n",
    "            if left != right: return False\n",
    "            x=(x%div)//10\n",
    "            div=div/100\n",
    "        return True"
   ]
  },
  {
   "cell_type": "code",
   "execution_count": 113,
   "id": "a7d21b13",
   "metadata": {},
   "outputs": [
    {
     "data": {
      "text/plain": [
       "True"
      ]
     },
     "execution_count": 113,
     "metadata": {},
     "output_type": "execute_result"
    }
   ],
   "source": [
    "a=Solution()\n",
    "a.isPalindrome(121)"
   ]
  },
  {
   "cell_type": "markdown",
   "id": "74aac383",
   "metadata": {},
   "source": [
    "## 13. Roman to Integer"
   ]
  },
  {
   "cell_type": "markdown",
   "id": "0edfc82a",
   "metadata": {},
   "source": [
    "hashmaps, store the combinations as the dictionary with the char as the key and the number as value. initialize total as 0, go to the for loop to get the number range for all the values in the string. we need to compare two characters that are next to each other. so first check is to see that the next char exists, so a+1 < len(s) and then if the next char value is greater than the original one, then subtract its value from the total. if not add the value in the total\n",
    "\n",
    "steps:\n",
    "1. create a dictionary with char as the key and the value as the number\n",
    "2. total =0\n",
    "3. for c in range for len of string \n",
    "4. if a+1 < len (string ) and if the current index is less than the next value\n",
    "5. then subtract the value from the total\n",
    "6. if not add the value to the total\n",
    "7. return"
   ]
  },
  {
   "cell_type": "code",
   "execution_count": 61,
   "id": "a33a3843",
   "metadata": {},
   "outputs": [],
   "source": [
    "class Solution(object):\n",
    "    def romanToInt(self, s):\n",
    "        \"\"\"\n",
    "        :type s: str\n",
    "        :rtype: int\n",
    "        \"\"\"\n",
    "        data = {\n",
    "            'I':1,\n",
    "            'V':5,\n",
    "            'X':10,\n",
    "            'L':50,\n",
    "            'C':100,\n",
    "            'D' :500,\n",
    "            'M':1000,\n",
    "        }\n",
    "        total=0\n",
    "        for a in range(len(s)):\n",
    "            print(a)            \n",
    "            print(data[s[a]])\n",
    "            \n",
    "            if a+1<len(s) and data[s[a]]<data[s[a+1]]:\n",
    "                total-=data[s[a]]                \n",
    "            else:\n",
    "                total+=data[s[a]]\n",
    "        return total"
   ]
  },
  {
   "cell_type": "code",
   "execution_count": 62,
   "id": "60504270",
   "metadata": {},
   "outputs": [
    {
     "name": "stdout",
     "output_type": "stream",
     "text": [
      "0\n",
      "1\n",
      "1\n",
      "1\n",
      "2\n",
      "1\n"
     ]
    },
    {
     "data": {
      "text/plain": [
       "3"
      ]
     },
     "execution_count": 62,
     "metadata": {},
     "output_type": "execute_result"
    }
   ],
   "source": [
    "v = Solution()\n",
    "v.romanToInt(\"III\")"
   ]
  },
  {
   "cell_type": "code",
   "execution_count": 50,
   "id": "5386efcc",
   "metadata": {},
   "outputs": [
    {
     "data": {
      "text/plain": [
       "3"
      ]
     },
     "execution_count": 50,
     "metadata": {},
     "output_type": "execute_result"
    }
   ],
   "source": [
    "len(\"III\")"
   ]
  },
  {
   "cell_type": "code",
   "execution_count": 124,
   "id": "bd1a1947",
   "metadata": {},
   "outputs": [],
   "source": [
    "class Solution(object):\n",
    "    def romanToInt(self, s):\n",
    "        \"\"\"\n",
    "        :type s: str\n",
    "        :rtype: int\n",
    "        \"\"\"\n",
    "        data = {\n",
    "            'I':1,\n",
    "            'V':5,\n",
    "            'X':10,\n",
    "            'L':50,\n",
    "            'C':100,\n",
    "            'D' :500,\n",
    "            'M':1000,\n",
    "        }\n",
    "        total=0\n",
    "        for a in s:\n",
    "            print(a)\n",
    "            \n",
    "            if data[a]<total:\n",
    "                total-=data[a]               \n",
    "            else:\n",
    "                total+=data[a]\n",
    "                print(total)\n",
    "        return total"
   ]
  },
  {
   "cell_type": "code",
   "execution_count": 125,
   "id": "64690311",
   "metadata": {},
   "outputs": [
    {
     "name": "stdout",
     "output_type": "stream",
     "text": [
      "I\n",
      "1\n",
      "I\n",
      "2\n",
      "I\n"
     ]
    },
    {
     "data": {
      "text/plain": [
       "1"
      ]
     },
     "execution_count": 125,
     "metadata": {},
     "output_type": "execute_result"
    }
   ],
   "source": [
    "v = Solution()\n",
    "v.romanToInt(\"III\")"
   ]
  },
  {
   "cell_type": "markdown",
   "id": "bd6882a1",
   "metadata": {},
   "source": [
    "## 14. Longest Common Prefix"
   ]
  },
  {
   "cell_type": "markdown",
   "id": "a45cbc3c",
   "metadata": {},
   "source": [
    "use empty string to add the characters. take the first string and go through the for loop with length of characters. then then next for loop should be for all the strings in the list. then the first condition is if the length of index in the first for loop is equal to the length of any of the string, then that is the shortest string, exit the loop and return result string. if not check if the value in the string is not equal to the value in the first string, then also exit the loop. if not add the char in the string to the empty res string created. finally return the string\n",
    "\n",
    "steps:\n",
    "1. create an empty res string\n",
    "2. for loop for the length of the first string\n",
    "3. 2nd for loop for all the strings - this inner loop runs to all the strings corresponding index.\n",
    "4. check if condition, if index == len(s) - to search if there is any other string that is shortest or if the character in the other string is not equal to the first string character, \n",
    "5. then exit the loop and return the string being added to the res\n",
    "6. if not add the character to the res - this char is common in all the strings - that is the reason it is in the innermost loop\n"
   ]
  },
  {
   "cell_type": "code",
   "execution_count": 91,
   "id": "7b0e30b8",
   "metadata": {},
   "outputs": [],
   "source": [
    "class Solution(object):\n",
    "    def longestCommonPrefix(self, strs):\n",
    "        \"\"\"\n",
    "        :type strs: List[str]\n",
    "        :rtype: str\n",
    "        \"\"\"\n",
    "        res = \"\"\n",
    "        for i in range(len(strs[0])):\n",
    "            for s in strs:\n",
    "                if i==len(s) or s[i] != strs[0][i]:\n",
    "                    return res\n",
    "            res +=strs[0][i]\n",
    "        return res"
   ]
  },
  {
   "cell_type": "code",
   "execution_count": 92,
   "id": "dc5e4468",
   "metadata": {},
   "outputs": [],
   "source": [
    "strs = [\"flower\",\"flow\",\"flight\"]"
   ]
  },
  {
   "cell_type": "code",
   "execution_count": 88,
   "id": "74f1dc53",
   "metadata": {},
   "outputs": [
    {
     "data": {
      "text/plain": [
       "3"
      ]
     },
     "execution_count": 88,
     "metadata": {},
     "output_type": "execute_result"
    }
   ],
   "source": [
    "len(strs)"
   ]
  },
  {
   "cell_type": "code",
   "execution_count": 89,
   "id": "11fc6e8f",
   "metadata": {},
   "outputs": [
    {
     "data": {
      "text/plain": [
       "'fl'"
      ]
     },
     "execution_count": 89,
     "metadata": {},
     "output_type": "execute_result"
    }
   ],
   "source": [
    "c= Solution()    \n",
    "c.longestCommonPrefix([\"flower\",\"flow\",\"flight\"])"
   ]
  },
  {
   "cell_type": "code",
   "execution_count": 90,
   "id": "6fa2ec03",
   "metadata": {},
   "outputs": [],
   "source": [
    "val = min([len(s) for s in strs])"
   ]
  },
  {
   "cell_type": "markdown",
   "id": "7f8332c6",
   "metadata": {},
   "source": [
    "## 20. Valid Parentheses"
   ]
  },
  {
   "cell_type": "markdown",
   "id": "d43080ef",
   "metadata": {},
   "source": [
    "use stacks, store all the open paranthesis in the stack and have a dictionary for close to open paranthesis. check if each of the moment the closed paranthesis is seen 1. if the stack is not empty and the stack top value is the same open paranthesis:\n",
    "Steps:\n",
    "1. create an empty stack list\n",
    "2. Create a dictionary with key as closed paranthesis and val as open paranthesis\n",
    "3. Go to each character in the string\n",
    "4. if the character is closing paranthesis= is the key in the dictionary:\n",
    "    5. check if the stack is empty (we cant have the start of the string as the closing parantheis) and if the stack's last value is equal to the val of the dict for this key (that means there is a match to the closing parantheis with open):\n",
    "    6. then pop the stack, remove the open paranthesis from the stack ( the trick here is to store only the closing paranthesis)\n",
    "    7. if either the stack is empty or the paranthesis dont match - then return false\n",
    "8. if the character is open paranthesis then add it to the stack\n",
    "9. Finally return True if the stack is empty - if not stack then return True else return False\n",
    "    "
   ]
  },
  {
   "cell_type": "code",
   "execution_count": 98,
   "id": "71931bc9",
   "metadata": {},
   "outputs": [],
   "source": [
    "class Solution(object):\n",
    "    def isValid(self, s):\n",
    "        \"\"\"\n",
    "        :type s: str\n",
    "        :rtype: bool\n",
    "        \"\"\"\n",
    "        stack=[]\n",
    "        data={\")\":\"(\",\"]\":\"[\",\"}\":\"{\"}\n",
    "        \n",
    "        for c in s:\n",
    "            if c in data:\n",
    "                if stack and stack[-1]==data[c]:\n",
    "                    stack.pop()\n",
    "                else:\n",
    "                    return False\n",
    "            else:\n",
    "                stack.append(c)\n",
    "        return True if not stack else False"
   ]
  },
  {
   "cell_type": "code",
   "execution_count": 94,
   "id": "fc7dd4f4",
   "metadata": {},
   "outputs": [],
   "source": [
    "stack=[\"1\",\"2\",\"c\"]"
   ]
  },
  {
   "cell_type": "code",
   "execution_count": 95,
   "id": "43c68c5f",
   "metadata": {},
   "outputs": [
    {
     "data": {
      "text/plain": [
       "'c'"
      ]
     },
     "execution_count": 95,
     "metadata": {},
     "output_type": "execute_result"
    }
   ],
   "source": [
    "stack[-1]"
   ]
  },
  {
   "cell_type": "code",
   "execution_count": 96,
   "id": "74229b52",
   "metadata": {},
   "outputs": [
    {
     "data": {
      "text/plain": [
       "'c'"
      ]
     },
     "execution_count": 96,
     "metadata": {},
     "output_type": "execute_result"
    }
   ],
   "source": [
    "stack.pop()"
   ]
  },
  {
   "cell_type": "code",
   "execution_count": 97,
   "id": "20a01710",
   "metadata": {},
   "outputs": [
    {
     "data": {
      "text/plain": [
       "['1', '2']"
      ]
     },
     "execution_count": 97,
     "metadata": {},
     "output_type": "execute_result"
    }
   ],
   "source": [
    "stack"
   ]
  },
  {
   "cell_type": "code",
   "execution_count": null,
   "id": "cb0a7acb",
   "metadata": {},
   "outputs": [],
   "source": []
  }
 ],
 "metadata": {
  "kernelspec": {
   "display_name": "Python 3 (ipykernel)",
   "language": "python",
   "name": "python3"
  },
  "language_info": {
   "codemirror_mode": {
    "name": "ipython",
    "version": 3
   },
   "file_extension": ".py",
   "mimetype": "text/x-python",
   "name": "python",
   "nbconvert_exporter": "python",
   "pygments_lexer": "ipython3",
   "version": "3.9.12"
  }
 },
 "nbformat": 4,
 "nbformat_minor": 5
}
